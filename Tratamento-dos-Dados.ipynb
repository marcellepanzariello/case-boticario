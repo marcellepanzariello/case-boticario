{
  "nbformat": 4,
  "nbformat_minor": 0,
  "metadata": {
    "colab": {
      "provenance": []
    },
    "kernelspec": {
      "name": "python3",
      "display_name": "Python 3"
    },
    "language_info": {
      "name": "python"
    }
  },
  "cells": [
    {
      "cell_type": "markdown",
      "source": [
        "# **Case Bolsista - Análise de Dados & Melhoria de Processos**"
      ],
      "metadata": {
        "id": "7Cu0U1aQRaK3"
      }
    },
    {
      "cell_type": "code",
      "execution_count": null,
      "metadata": {
        "id": "6J__gLhK19uP"
      },
      "outputs": [],
      "source": [
        "import sqlite3 as sqlite\n",
        "import pandas as pd\n",
        "import numpy as np\n",
        "\n",
        "pd.set_option('display.max_colwidth', 200)"
      ]
    },
    {
      "cell_type": "markdown",
      "source": [
        "**Importando base de dados**"
      ],
      "metadata": {
        "id": "2L2MwflE54by"
      }
    },
    {
      "cell_type": "code",
      "source": [
        "dfDados = pd.read_excel('base_de_dados.xlsx')"
      ],
      "metadata": {
        "id": "EC15mNI83BWB"
      },
      "execution_count": null,
      "outputs": []
    },
    {
      "cell_type": "code",
      "source": [
        "# Convertendo tipo das colunas \"nr_tat_dias_uteis\" e \"nr_pedidos\" de float para integer\n",
        "\n",
        "dfDados['nr_tat_dias_uteis'] = dfDados['nr_tat_dias_uteis'].astype('Int64')\n",
        "dfDados['nr_pedidos'] = dfDados['nr_pedidos'].astype('Int64')\n",
        "\n",
        "# Corrigindo tipo da coluna \"dt_indicador\"\n",
        "dfDados['dt_indicador'] = dfDados['dt_indicador'].dt.date"
      ],
      "metadata": {
        "id": "QPXre3T7LSQl"
      },
      "execution_count": null,
      "outputs": []
    },
    {
      "cell_type": "code",
      "source": [
        "# Replace para corrigir nome REGI�O METROPOLITANA na coluna \"des_capital_interior\"\n",
        "\n",
        "dfDados['des_capital_interior'] = dfDados['des_capital_interior'].str.replace('REGI�O METROPOLITANA', 'REGIAO METROPOLITANA')"
      ],
      "metadata": {
        "id": "tckfJ3OoGbyR"
      },
      "execution_count": null,
      "outputs": []
    },
    {
      "cell_type": "code",
      "source": [
        "# Informações da base de dados\n",
        "\n",
        "dfDados.info(show_counts=True)"
      ],
      "metadata": {
        "colab": {
          "base_uri": "https://localhost:8080/"
        },
        "id": "ABtr1j2V4j5f",
        "outputId": "72588f13-7523-4550-d45d-fceb113ff232"
      },
      "execution_count": null,
      "outputs": [
        {
          "output_type": "stream",
          "name": "stdout",
          "text": [
            "<class 'pandas.core.frame.DataFrame'>\n",
            "RangeIndex: 28170 entries, 0 to 28169\n",
            "Data columns (total 10 columns):\n",
            " #   Column                Non-Null Count  Dtype \n",
            "---  ------                --------------  ----- \n",
            " 0   uf_sigla              28157 non-null  object\n",
            " 1   nome_microrregiao     28157 non-null  object\n",
            " 2   nome_municipio        28157 non-null  object\n",
            " 3   des_capital_interior  28158 non-null  object\n",
            " 4   des_canal             28010 non-null  object\n",
            " 5   cod_marca             28170 non-null  object\n",
            " 6   dt_indicador          28170 non-null  object\n",
            " 7   st_entrega            28168 non-null  object\n",
            " 8   nr_tat_dias_uteis     27639 non-null  Int64 \n",
            " 9   nr_pedidos            27639 non-null  Int64 \n",
            "dtypes: Int64(2), object(8)\n",
            "memory usage: 2.2+ MB\n"
          ]
        }
      ]
    },
    {
      "cell_type": "markdown",
      "source": [
        "**Conectando ao SQLite**"
      ],
      "metadata": {
        "id": "YFuA44F321M4"
      }
    },
    {
      "cell_type": "code",
      "source": [
        "conexao = sqlite.connect('banco_de_dados.db')\n",
        "\n",
        "print(\"Conexão estabelecida!\");"
      ],
      "metadata": {
        "colab": {
          "base_uri": "https://localhost:8080/"
        },
        "id": "orshriY82Wig",
        "outputId": "34aef0e3-eb16-4a96-be95-da4db8e501f7"
      },
      "execution_count": null,
      "outputs": [
        {
          "output_type": "stream",
          "name": "stdout",
          "text": [
            "Conexão estabelecida!\n"
          ]
        }
      ]
    },
    {
      "cell_type": "markdown",
      "source": [
        "**Salvando base de dados no banco SQLite**"
      ],
      "metadata": {
        "id": "GiDnpYPT6bfB"
      }
    },
    {
      "cell_type": "code",
      "source": [
        "dfDados.to_sql('pedidos_logistica', conexao, if_exists='replace', index=False)"
      ],
      "metadata": {
        "colab": {
          "base_uri": "https://localhost:8080/"
        },
        "id": "LtSFOuUC5CxT",
        "outputId": "be43b467-9d26-4581-f950-9934148c9875"
      },
      "execution_count": null,
      "outputs": [
        {
          "output_type": "execute_result",
          "data": {
            "text/plain": [
              "28170"
            ]
          },
          "metadata": {},
          "execution_count": 7
        }
      ]
    },
    {
      "cell_type": "code",
      "source": [],
      "metadata": {
        "id": "5Kp4maX4AFf3"
      },
      "execution_count": null,
      "outputs": []
    },
    {
      "cell_type": "code",
      "source": [],
      "metadata": {
        "id": "u1OmiMRmQ8qR"
      },
      "execution_count": null,
      "outputs": []
    },
    {
      "cell_type": "markdown",
      "source": [
        "## **Tratamento dos Dados**"
      ],
      "metadata": {
        "id": "Kih4hRxMfmGo"
      }
    },
    {
      "cell_type": "markdown",
      "source": [
        "**Removendo valores nulos**"
      ],
      "metadata": {
        "id": "Ts6pMvZeANK4"
      }
    },
    {
      "cell_type": "code",
      "source": [
        "dfDados.isnull().sum()"
      ],
      "metadata": {
        "colab": {
          "base_uri": "https://localhost:8080/"
        },
        "id": "uXxJ9JSuAUEr",
        "outputId": "78447cdd-7ef0-49c4-a9ae-71360e77376f"
      },
      "execution_count": null,
      "outputs": [
        {
          "output_type": "execute_result",
          "data": {
            "text/plain": [
              "uf_sigla                 13\n",
              "nome_microrregiao        13\n",
              "nome_municipio           13\n",
              "des_capital_interior     12\n",
              "des_canal               160\n",
              "cod_marca                 0\n",
              "dt_indicador              0\n",
              "st_entrega                2\n",
              "nr_tat_dias_uteis       531\n",
              "nr_pedidos              531\n",
              "dtype: int64"
            ]
          },
          "metadata": {},
          "execution_count": 8
        }
      ]
    },
    {
      "cell_type": "code",
      "source": [
        "# Removendo UFs nulas\n",
        "\n",
        "dfDados.dropna(subset=['uf_sigla'], inplace=True)\n",
        "dfDados.reset_index(drop=True, inplace=True)"
      ],
      "metadata": {
        "id": "jH4mbsvJA_Mk"
      },
      "execution_count": null,
      "outputs": []
    },
    {
      "cell_type": "code",
      "source": [
        "dfDados.isnull().sum()"
      ],
      "metadata": {
        "colab": {
          "base_uri": "https://localhost:8080/"
        },
        "id": "Dml7m4-5BOsJ",
        "outputId": "3761c8f4-c968-412f-a6a7-a59188028784"
      },
      "execution_count": null,
      "outputs": [
        {
          "output_type": "execute_result",
          "data": {
            "text/plain": [
              "uf_sigla                  0\n",
              "nome_microrregiao         0\n",
              "nome_municipio            0\n",
              "des_capital_interior      0\n",
              "des_canal               160\n",
              "cod_marca                 0\n",
              "dt_indicador              0\n",
              "st_entrega                2\n",
              "nr_tat_dias_uteis       531\n",
              "nr_pedidos              531\n",
              "dtype: int64"
            ]
          },
          "metadata": {},
          "execution_count": 10
        }
      ]
    },
    {
      "cell_type": "code",
      "source": [
        "# Removendo canais nulos\n",
        "\n",
        "dfDados.dropna(subset=['des_canal'], inplace=True)\n",
        "dfDados.reset_index(drop=True, inplace=True)"
      ],
      "metadata": {
        "id": "SECT2f9JBK0A"
      },
      "execution_count": null,
      "outputs": []
    },
    {
      "cell_type": "code",
      "source": [
        "dfDados.isnull().sum()"
      ],
      "metadata": {
        "colab": {
          "base_uri": "https://localhost:8080/"
        },
        "id": "oB_KAzuhBQKY",
        "outputId": "a2196c02-df7a-4f1b-916a-5e12b77208cf"
      },
      "execution_count": null,
      "outputs": [
        {
          "output_type": "execute_result",
          "data": {
            "text/plain": [
              "uf_sigla                  0\n",
              "nome_microrregiao         0\n",
              "nome_municipio            0\n",
              "des_capital_interior      0\n",
              "des_canal                 0\n",
              "cod_marca                 0\n",
              "dt_indicador              0\n",
              "st_entrega                1\n",
              "nr_tat_dias_uteis       530\n",
              "nr_pedidos              530\n",
              "dtype: int64"
            ]
          },
          "metadata": {},
          "execution_count": 12
        }
      ]
    },
    {
      "cell_type": "code",
      "source": [
        "# Removendo situações nulas\n",
        "\n",
        "dfDados.dropna(subset=['st_entrega'], inplace=True)\n",
        "dfDados.reset_index(drop=True, inplace=True)"
      ],
      "metadata": {
        "id": "Fhum_MuuBSM_"
      },
      "execution_count": null,
      "outputs": []
    },
    {
      "cell_type": "code",
      "source": [
        "dfDados.isnull().sum()"
      ],
      "metadata": {
        "colab": {
          "base_uri": "https://localhost:8080/"
        },
        "id": "qFiWe_q6BUxC",
        "outputId": "56f3b5fe-e749-4b3d-af65-de973c80ed50"
      },
      "execution_count": null,
      "outputs": [
        {
          "output_type": "execute_result",
          "data": {
            "text/plain": [
              "uf_sigla                  0\n",
              "nome_microrregiao         0\n",
              "nome_municipio            0\n",
              "des_capital_interior      0\n",
              "des_canal                 0\n",
              "cod_marca                 0\n",
              "dt_indicador              0\n",
              "st_entrega                0\n",
              "nr_tat_dias_uteis       529\n",
              "nr_pedidos              529\n",
              "dtype: int64"
            ]
          },
          "metadata": {},
          "execution_count": 14
        }
      ]
    },
    {
      "cell_type": "markdown",
      "source": [
        "Não foram removidos valores nulos de \"nr_tat_dias_uteis\" e \"nr_pedidos\", pois estas tuplas representam as situações Sinistro e Devolução. Sinistro e Devolução não tem TAT e número de pedidos."
      ],
      "metadata": {
        "id": "29-EHlYzhHky"
      }
    },
    {
      "cell_type": "code",
      "source": [
        "dfDados.info()"
      ],
      "metadata": {
        "id": "ryj_aKUF6edL",
        "colab": {
          "base_uri": "https://localhost:8080/"
        },
        "outputId": "5ec6b755-6821-41dc-e99f-db7417d5d4d0"
      },
      "execution_count": null,
      "outputs": [
        {
          "output_type": "stream",
          "name": "stdout",
          "text": [
            "<class 'pandas.core.frame.DataFrame'>\n",
            "RangeIndex: 27996 entries, 0 to 27995\n",
            "Data columns (total 10 columns):\n",
            " #   Column                Non-Null Count  Dtype \n",
            "---  ------                --------------  ----- \n",
            " 0   uf_sigla              27996 non-null  object\n",
            " 1   nome_microrregiao     27996 non-null  object\n",
            " 2   nome_municipio        27996 non-null  object\n",
            " 3   des_capital_interior  27996 non-null  object\n",
            " 4   des_canal             27996 non-null  object\n",
            " 5   cod_marca             27996 non-null  object\n",
            " 6   dt_indicador          27996 non-null  object\n",
            " 7   st_entrega            27996 non-null  object\n",
            " 8   nr_tat_dias_uteis     27467 non-null  Int64 \n",
            " 9   nr_pedidos            27467 non-null  Int64 \n",
            "dtypes: Int64(2), object(8)\n",
            "memory usage: 2.2+ MB\n"
          ]
        }
      ]
    },
    {
      "cell_type": "code",
      "source": [
        "dfDados.to_sql('pedidos_logistica', conexao, if_exists='replace', index=False)"
      ],
      "metadata": {
        "colab": {
          "base_uri": "https://localhost:8080/"
        },
        "id": "laTHtavzwZV6",
        "outputId": "3a105f0f-ee6f-4186-bec0-3127c76128e2"
      },
      "execution_count": null,
      "outputs": [
        {
          "output_type": "execute_result",
          "data": {
            "text/plain": [
              "27996"
            ]
          },
          "metadata": {},
          "execution_count": 16
        }
      ]
    },
    {
      "cell_type": "code",
      "source": [],
      "metadata": {
        "id": "WlyY5SLGBiBP"
      },
      "execution_count": null,
      "outputs": []
    },
    {
      "cell_type": "code",
      "source": [],
      "metadata": {
        "id": "ZP04wCRJBiEV"
      },
      "execution_count": null,
      "outputs": []
    },
    {
      "cell_type": "markdown",
      "source": [
        "**Ajustes textuais na coluna \"des_capital_interior\"**"
      ],
      "metadata": {
        "id": "0kJPfofUhveG"
      }
    },
    {
      "cell_type": "code",
      "source": [
        "print(dfDados.des_capital_interior.unique())"
      ],
      "metadata": {
        "id": "wMH8a42X6eie",
        "colab": {
          "base_uri": "https://localhost:8080/"
        },
        "outputId": "c01ba424-7dc0-4d8d-b77a-1f1595211d8f"
      },
      "execution_count": null,
      "outputs": [
        {
          "output_type": "stream",
          "name": "stdout",
          "text": [
            "['INTERIOR' 'REGIAO METROPOLITANA' 'CAPITAL']\n"
          ]
        }
      ]
    },
    {
      "cell_type": "code",
      "source": [
        "query = '''UPDATE pedidos_logistica SET des_capital_interior = 'Interior' WHERE des_capital_interior = \\'INTERIOR\\'; '''\n",
        "c = conexao.cursor()\n",
        "c.execute(query)\n",
        "conexao.commit()\n",
        "\n",
        "query = '''UPDATE pedidos_logistica SET des_capital_interior = 'Região Metropolitana' WHERE des_capital_interior = \\'REGIAO METROPOLITANA\\'; '''\n",
        "c = conexao.cursor()\n",
        "c.execute(query)\n",
        "conexao.commit()\n",
        "\n",
        "query = '''UPDATE pedidos_logistica SET des_capital_interior = 'Capital' WHERE des_capital_interior = \\'CAPITAL\\'; '''\n",
        "c = conexao.cursor()\n",
        "c.execute(query)\n",
        "conexao.commit()\n",
        "\n",
        "query = '''SELECT * FROM pedidos_logistica'''\n",
        "dfDados = pd.read_sql(query, conexao)"
      ],
      "metadata": {
        "id": "YrVyG2dgh1ze"
      },
      "execution_count": null,
      "outputs": []
    },
    {
      "cell_type": "code",
      "source": [],
      "metadata": {
        "id": "4tEYiYAohusx"
      },
      "execution_count": null,
      "outputs": []
    },
    {
      "cell_type": "markdown",
      "source": [
        "**Ajustes textuais na coluna \"des_canal\"**"
      ],
      "metadata": {
        "id": "7EI2-KGGh84s"
      }
    },
    {
      "cell_type": "code",
      "source": [
        "print(dfDados.des_canal.unique())"
      ],
      "metadata": {
        "colab": {
          "base_uri": "https://localhost:8080/"
        },
        "id": "JZU37xiohuvw",
        "outputId": "3f847075-4b90-4a69-8d65-1f4e81efe15f"
      },
      "execution_count": null,
      "outputs": [
        {
          "output_type": "stream",
          "name": "stdout",
          "text": [
            "['VD' 'Loja' 'ECOMM']\n"
          ]
        }
      ]
    },
    {
      "cell_type": "code",
      "source": [
        "query = '''UPDATE pedidos_logistica SET des_canal = 'LOJA' WHERE des_canal = \\'Loja\\'; '''\n",
        "c = conexao.cursor()\n",
        "c.execute(query)\n",
        "conexao.commit()\n",
        "\n",
        "query = '''SELECT * FROM pedidos_logistica'''\n",
        "dfDados = pd.read_sql(query, conexao)"
      ],
      "metadata": {
        "id": "2wTMKYNkiDcZ"
      },
      "execution_count": null,
      "outputs": []
    },
    {
      "cell_type": "code",
      "source": [],
      "metadata": {
        "id": "Xct_B2mliDfR"
      },
      "execution_count": null,
      "outputs": []
    },
    {
      "cell_type": "markdown",
      "source": [
        "**Ajustes textuais e unificando valores na coluna \"st_entrega\"**"
      ],
      "metadata": {
        "id": "pwn3AFFtiDvZ"
      }
    },
    {
      "cell_type": "code",
      "source": [
        "print(dfDados.st_entrega.unique())"
      ],
      "metadata": {
        "colab": {
          "base_uri": "https://localhost:8080/"
        },
        "id": "0J-XEjIaiGm4",
        "outputId": "7a2f9bdc-d763-4676-d42d-a3681af7fa02"
      },
      "execution_count": null,
      "outputs": [
        {
          "output_type": "stream",
          "name": "stdout",
          "text": [
            "['Prazo' 'Atraso' 'Sinistro' 'Devolucao' 'Entregue no Prazo'\n",
            " 'Não Entregue no Prazo']\n"
          ]
        }
      ]
    },
    {
      "cell_type": "code",
      "source": [
        "query = '''UPDATE pedidos_logistica SET st_entrega = 'Devolução' WHERE st_entrega = \\'Devolucao\\'; '''\n",
        "c = conexao.cursor()\n",
        "c.execute(query)\n",
        "conexao.commit()"
      ],
      "metadata": {
        "id": "HGgAFD3gkDxz"
      },
      "execution_count": null,
      "outputs": []
    },
    {
      "cell_type": "code",
      "source": [
        "# Quantidade de dados para cada situação\n",
        "\n",
        "print(dfDados.st_entrega.value_counts())"
      ],
      "metadata": {
        "colab": {
          "base_uri": "https://localhost:8080/"
        },
        "id": "ZShYFBuEld8s",
        "outputId": "f428a01c-147a-4830-b753-30ae7969ebcd"
      },
      "execution_count": null,
      "outputs": [
        {
          "output_type": "stream",
          "name": "stdout",
          "text": [
            "Entregue no Prazo        14353\n",
            "Prazo                    11432\n",
            "Atraso                    1677\n",
            "Devolucao                  501\n",
            "Sinistro                    28\n",
            "Não Entregue no Prazo        5\n",
            "Name: st_entrega, dtype: int64\n"
          ]
        }
      ]
    },
    {
      "cell_type": "code",
      "source": [
        "# Unificando valores das situações Prazo e Entregue no Prazo\n",
        "\n",
        "query = '''UPDATE pedidos_logistica SET st_entrega = 'Entregue no Prazo' WHERE st_entrega = \\'Prazo\\'; '''\n",
        "\n",
        "c = conexao.cursor()\n",
        "c.execute(query)\n",
        "conexao.commit()\n",
        "\n",
        "query = '''SELECT * FROM pedidos_logistica'''\n",
        "dfDados = pd.read_sql(query, conexao)"
      ],
      "metadata": {
        "id": "TYiF607RkU_1"
      },
      "execution_count": null,
      "outputs": []
    },
    {
      "cell_type": "code",
      "source": [
        "# Quantidade de dados para cada situação pós unificação das situações\n",
        "\n",
        "print(dfDados.st_entrega.value_counts())"
      ],
      "metadata": {
        "colab": {
          "base_uri": "https://localhost:8080/"
        },
        "id": "WLtF0E4clkPD",
        "outputId": "f79e73bb-ea85-4023-d6ef-78e6b8cfa5c1"
      },
      "execution_count": null,
      "outputs": [
        {
          "output_type": "stream",
          "name": "stdout",
          "text": [
            "Entregue no Prazo        25785\n",
            "Atraso                    1677\n",
            "Devolução                  501\n",
            "Sinistro                    28\n",
            "Não Entregue no Prazo        5\n",
            "Name: st_entrega, dtype: int64\n"
          ]
        }
      ]
    },
    {
      "cell_type": "code",
      "source": [],
      "metadata": {
        "id": "1UkxH6dHiGsR"
      },
      "execution_count": null,
      "outputs": []
    },
    {
      "cell_type": "markdown",
      "source": [
        "**Unificando valores da coluna \"cod_marca\"**"
      ],
      "metadata": {
        "id": "e1RwTduOCb9o"
      }
    },
    {
      "cell_type": "code",
      "source": [
        "print(dfDados.cod_marca.unique())"
      ],
      "metadata": {
        "id": "9oE7U39l5knM",
        "colab": {
          "base_uri": "https://localhost:8080/"
        },
        "outputId": "5adce913-2440-479e-da8d-f87a40a3e26c"
      },
      "execution_count": null,
      "outputs": [
        {
          "output_type": "stream",
          "name": "stdout",
          "text": [
            "['EUD' 'EUD - Eudora' 'EUDORA' 'ECOM MONO' 'ECOMM MONO' 'Ecom Mono']\n"
          ]
        }
      ]
    },
    {
      "cell_type": "code",
      "source": [
        "# Quantidade de dados para cada marca\n",
        "\n",
        "print(dfDados.cod_marca.value_counts())"
      ],
      "metadata": {
        "colab": {
          "base_uri": "https://localhost:8080/"
        },
        "id": "c0VyaRbzlsTJ",
        "outputId": "325a9620-077c-40b4-8a26-bf526228aa65"
      },
      "execution_count": null,
      "outputs": [
        {
          "output_type": "stream",
          "name": "stdout",
          "text": [
            "ECOMM MONO      14298\n",
            "EUD             13593\n",
            "EUD - Eudora       40\n",
            "Ecom Mono          36\n",
            "ECOM MONO          24\n",
            "EUDORA              5\n",
            "Name: cod_marca, dtype: int64\n"
          ]
        }
      ]
    },
    {
      "cell_type": "code",
      "source": [
        "# Unificando valores para EUDORA\n",
        "\n",
        "query = '''UPDATE pedidos_logistica SET cod_marca = 'EUDORA' \n",
        "           WHERE cod_marca = \\'EUD\\' OR cod_marca = \\'EUD - Eudora\\'; '''\n",
        "\n",
        "c = conexao.cursor()\n",
        "c.execute(query)\n",
        "conexao.commit()"
      ],
      "metadata": {
        "id": "VC8yiULrCWDS"
      },
      "execution_count": null,
      "outputs": []
    },
    {
      "cell_type": "code",
      "source": [
        "# Unificando valores para ECOMM MONO\n",
        "\n",
        "query = '''UPDATE pedidos_logistica SET cod_marca = 'ECOMM MONO' \n",
        "           WHERE cod_marca = \\'ECOM MONO\\' OR cod_marca = \\'Ecom Mono\\'; '''\n",
        "\n",
        "c = conexao.cursor()\n",
        "c.execute(query)\n",
        "conexao.commit()\n",
        "\n",
        "query = '''SELECT * FROM pedidos_logistica'''\n",
        "dfDados = pd.read_sql(query, conexao)"
      ],
      "metadata": {
        "id": "4NMVT3ilGFJ5"
      },
      "execution_count": null,
      "outputs": []
    },
    {
      "cell_type": "code",
      "source": [
        "# Quantidade de dados para cada marca pós unificação das marcas\n",
        "\n",
        "print(dfDados.cod_marca.value_counts())"
      ],
      "metadata": {
        "colab": {
          "base_uri": "https://localhost:8080/"
        },
        "id": "jJmqW5yXlvqf",
        "outputId": "f767a2ff-3238-411b-c434-0827fb5360ac"
      },
      "execution_count": null,
      "outputs": [
        {
          "output_type": "stream",
          "name": "stdout",
          "text": [
            "ECOMM MONO    14358\n",
            "EUDORA        13638\n",
            "Name: cod_marca, dtype: int64\n"
          ]
        }
      ]
    },
    {
      "cell_type": "code",
      "source": [],
      "metadata": {
        "id": "kfE44942izOc"
      },
      "execution_count": null,
      "outputs": []
    },
    {
      "cell_type": "code",
      "source": [],
      "metadata": {
        "id": "6A1-80j-l3Uc"
      },
      "execution_count": null,
      "outputs": []
    },
    {
      "cell_type": "markdown",
      "source": [
        "## **Dados**"
      ],
      "metadata": {
        "id": "TRJRemc4-3V_"
      }
    },
    {
      "cell_type": "code",
      "source": [
        "dfDic = pd.DataFrame(np.array([['uf_sigla', 'Sigla da UF', 'String', dfDados['uf_sigla'].str.len().max().astype(int), 'NOT NULL'], \n",
        "                            ['nome_microrregiao', 'Nome da microrregião', 'String', dfDados['nome_microrregiao'].str.len().max().astype(int), 'NOT NULL'], \n",
        "                            ['nome_municipio', 'Nome do município', 'String', dfDados['nome_municipio'].str.len().max().astype(int), 'NOT NULL'],\n",
        "                            ['des_capital_interior', 'Tipo de região da entrega', 'String', dfDados['des_capital_interior'].str.len().max().astype(int), 'NOT NULL'],\n",
        "                            ['des_canal', 'Canal de distribuição', 'String', dfDados['des_canal'].str.len().max().astype(int), 'NOT NULL'],\n",
        "                            ['cod_marca', 'Marca', 'String', dfDados['cod_marca'].str.len().max().astype(int), 'NOT NULL'],\n",
        "                            ['dt_indicador', 'Data da chegada do pedido dentro dos sistemas de Logística', 'Date', '', 'NOT NULL'],\n",
        "                            ['st_entrega', 'Situação da entrega', 'String', dfDados['st_entrega'].str.len().max().astype(int), 'NOT NULL'],\n",
        "                            ['nr_tat_dias_uteis', 'Tempo de atendimento total em dias úteis', 'Integer', '', ''],\n",
        "                            ['nr_pedidos', 'Quantidade de pedidos da entrega', 'Integer', '', ''],\n",
        "                  ]), \n",
        "                  columns=['Coluna', 'Descrição', 'Tipo', 'Tamanho', 'Restrições'])\n",
        "\n",
        "dfDic.index = np.arange(1, 11)\n",
        "dfDic[['Coluna', 'Tipo', 'Tamanho', 'Restrições', 'Descrição']]"
      ],
      "metadata": {
        "id": "KiIasMClB0h7",
        "colab": {
          "base_uri": "https://localhost:8080/",
          "height": 363
        },
        "outputId": "05d102a7-42e4-41f7-f2e7-3f1cb113fc26"
      },
      "execution_count": null,
      "outputs": [
        {
          "output_type": "execute_result",
          "data": {
            "text/plain": [
              "                  Coluna     Tipo Tamanho Restrições  \\\n",
              "1               uf_sigla   String       2   NOT NULL   \n",
              "2      nome_microrregiao   String      36   NOT NULL   \n",
              "3         nome_municipio   String      31   NOT NULL   \n",
              "4   des_capital_interior   String      20   NOT NULL   \n",
              "5              des_canal   String       5   NOT NULL   \n",
              "6              cod_marca   String      10   NOT NULL   \n",
              "7           dt_indicador     Date           NOT NULL   \n",
              "8             st_entrega   String      21   NOT NULL   \n",
              "9      nr_tat_dias_uteis  Integer                      \n",
              "10            nr_pedidos  Integer                      \n",
              "\n",
              "                                                     Descrição  \n",
              "1                                                  Sigla da UF  \n",
              "2                                         Nome da microrregião  \n",
              "3                                            Nome do município  \n",
              "4                                    Tipo de região da entrega  \n",
              "5                                        Canal de distribuição  \n",
              "6                                                        Marca  \n",
              "7   Data da chegada do pedido dentro dos sistemas de Logística  \n",
              "8                                          Situação da entrega  \n",
              "9                     Tempo de atendimento total em dias úteis  \n",
              "10                            Quantidade de pedidos da entrega  "
            ],
            "text/html": [
              "\n",
              "  <div id=\"df-2e5290fa-3eee-471d-a970-445d6f0f91b1\">\n",
              "    <div class=\"colab-df-container\">\n",
              "      <div>\n",
              "<style scoped>\n",
              "    .dataframe tbody tr th:only-of-type {\n",
              "        vertical-align: middle;\n",
              "    }\n",
              "\n",
              "    .dataframe tbody tr th {\n",
              "        vertical-align: top;\n",
              "    }\n",
              "\n",
              "    .dataframe thead th {\n",
              "        text-align: right;\n",
              "    }\n",
              "</style>\n",
              "<table border=\"1\" class=\"dataframe\">\n",
              "  <thead>\n",
              "    <tr style=\"text-align: right;\">\n",
              "      <th></th>\n",
              "      <th>Coluna</th>\n",
              "      <th>Tipo</th>\n",
              "      <th>Tamanho</th>\n",
              "      <th>Restrições</th>\n",
              "      <th>Descrição</th>\n",
              "    </tr>\n",
              "  </thead>\n",
              "  <tbody>\n",
              "    <tr>\n",
              "      <th>1</th>\n",
              "      <td>uf_sigla</td>\n",
              "      <td>String</td>\n",
              "      <td>2</td>\n",
              "      <td>NOT NULL</td>\n",
              "      <td>Sigla da UF</td>\n",
              "    </tr>\n",
              "    <tr>\n",
              "      <th>2</th>\n",
              "      <td>nome_microrregiao</td>\n",
              "      <td>String</td>\n",
              "      <td>36</td>\n",
              "      <td>NOT NULL</td>\n",
              "      <td>Nome da microrregião</td>\n",
              "    </tr>\n",
              "    <tr>\n",
              "      <th>3</th>\n",
              "      <td>nome_municipio</td>\n",
              "      <td>String</td>\n",
              "      <td>31</td>\n",
              "      <td>NOT NULL</td>\n",
              "      <td>Nome do município</td>\n",
              "    </tr>\n",
              "    <tr>\n",
              "      <th>4</th>\n",
              "      <td>des_capital_interior</td>\n",
              "      <td>String</td>\n",
              "      <td>20</td>\n",
              "      <td>NOT NULL</td>\n",
              "      <td>Tipo de região da entrega</td>\n",
              "    </tr>\n",
              "    <tr>\n",
              "      <th>5</th>\n",
              "      <td>des_canal</td>\n",
              "      <td>String</td>\n",
              "      <td>5</td>\n",
              "      <td>NOT NULL</td>\n",
              "      <td>Canal de distribuição</td>\n",
              "    </tr>\n",
              "    <tr>\n",
              "      <th>6</th>\n",
              "      <td>cod_marca</td>\n",
              "      <td>String</td>\n",
              "      <td>10</td>\n",
              "      <td>NOT NULL</td>\n",
              "      <td>Marca</td>\n",
              "    </tr>\n",
              "    <tr>\n",
              "      <th>7</th>\n",
              "      <td>dt_indicador</td>\n",
              "      <td>Date</td>\n",
              "      <td></td>\n",
              "      <td>NOT NULL</td>\n",
              "      <td>Data da chegada do pedido dentro dos sistemas de Logística</td>\n",
              "    </tr>\n",
              "    <tr>\n",
              "      <th>8</th>\n",
              "      <td>st_entrega</td>\n",
              "      <td>String</td>\n",
              "      <td>21</td>\n",
              "      <td>NOT NULL</td>\n",
              "      <td>Situação da entrega</td>\n",
              "    </tr>\n",
              "    <tr>\n",
              "      <th>9</th>\n",
              "      <td>nr_tat_dias_uteis</td>\n",
              "      <td>Integer</td>\n",
              "      <td></td>\n",
              "      <td></td>\n",
              "      <td>Tempo de atendimento total em dias úteis</td>\n",
              "    </tr>\n",
              "    <tr>\n",
              "      <th>10</th>\n",
              "      <td>nr_pedidos</td>\n",
              "      <td>Integer</td>\n",
              "      <td></td>\n",
              "      <td></td>\n",
              "      <td>Quantidade de pedidos da entrega</td>\n",
              "    </tr>\n",
              "  </tbody>\n",
              "</table>\n",
              "</div>\n",
              "      <button class=\"colab-df-convert\" onclick=\"convertToInteractive('df-2e5290fa-3eee-471d-a970-445d6f0f91b1')\"\n",
              "              title=\"Convert this dataframe to an interactive table.\"\n",
              "              style=\"display:none;\">\n",
              "        \n",
              "  <svg xmlns=\"http://www.w3.org/2000/svg\" height=\"24px\"viewBox=\"0 0 24 24\"\n",
              "       width=\"24px\">\n",
              "    <path d=\"M0 0h24v24H0V0z\" fill=\"none\"/>\n",
              "    <path d=\"M18.56 5.44l.94 2.06.94-2.06 2.06-.94-2.06-.94-.94-2.06-.94 2.06-2.06.94zm-11 1L8.5 8.5l.94-2.06 2.06-.94-2.06-.94L8.5 2.5l-.94 2.06-2.06.94zm10 10l.94 2.06.94-2.06 2.06-.94-2.06-.94-.94-2.06-.94 2.06-2.06.94z\"/><path d=\"M17.41 7.96l-1.37-1.37c-.4-.4-.92-.59-1.43-.59-.52 0-1.04.2-1.43.59L10.3 9.45l-7.72 7.72c-.78.78-.78 2.05 0 2.83L4 21.41c.39.39.9.59 1.41.59.51 0 1.02-.2 1.41-.59l7.78-7.78 2.81-2.81c.8-.78.8-2.07 0-2.86zM5.41 20L4 18.59l7.72-7.72 1.47 1.35L5.41 20z\"/>\n",
              "  </svg>\n",
              "      </button>\n",
              "      \n",
              "  <style>\n",
              "    .colab-df-container {\n",
              "      display:flex;\n",
              "      flex-wrap:wrap;\n",
              "      gap: 12px;\n",
              "    }\n",
              "\n",
              "    .colab-df-convert {\n",
              "      background-color: #E8F0FE;\n",
              "      border: none;\n",
              "      border-radius: 50%;\n",
              "      cursor: pointer;\n",
              "      display: none;\n",
              "      fill: #1967D2;\n",
              "      height: 32px;\n",
              "      padding: 0 0 0 0;\n",
              "      width: 32px;\n",
              "    }\n",
              "\n",
              "    .colab-df-convert:hover {\n",
              "      background-color: #E2EBFA;\n",
              "      box-shadow: 0px 1px 2px rgba(60, 64, 67, 0.3), 0px 1px 3px 1px rgba(60, 64, 67, 0.15);\n",
              "      fill: #174EA6;\n",
              "    }\n",
              "\n",
              "    [theme=dark] .colab-df-convert {\n",
              "      background-color: #3B4455;\n",
              "      fill: #D2E3FC;\n",
              "    }\n",
              "\n",
              "    [theme=dark] .colab-df-convert:hover {\n",
              "      background-color: #434B5C;\n",
              "      box-shadow: 0px 1px 3px 1px rgba(0, 0, 0, 0.15);\n",
              "      filter: drop-shadow(0px 1px 2px rgba(0, 0, 0, 0.3));\n",
              "      fill: #FFFFFF;\n",
              "    }\n",
              "  </style>\n",
              "\n",
              "      <script>\n",
              "        const buttonEl =\n",
              "          document.querySelector('#df-2e5290fa-3eee-471d-a970-445d6f0f91b1 button.colab-df-convert');\n",
              "        buttonEl.style.display =\n",
              "          google.colab.kernel.accessAllowed ? 'block' : 'none';\n",
              "\n",
              "        async function convertToInteractive(key) {\n",
              "          const element = document.querySelector('#df-2e5290fa-3eee-471d-a970-445d6f0f91b1');\n",
              "          const dataTable =\n",
              "            await google.colab.kernel.invokeFunction('convertToInteractive',\n",
              "                                                     [key], {});\n",
              "          if (!dataTable) return;\n",
              "\n",
              "          const docLinkHtml = 'Like what you see? Visit the ' +\n",
              "            '<a target=\"_blank\" href=https://colab.research.google.com/notebooks/data_table.ipynb>data table notebook</a>'\n",
              "            + ' to learn more about interactive tables.';\n",
              "          element.innerHTML = '';\n",
              "          dataTable['output_type'] = 'display_data';\n",
              "          await google.colab.output.renderOutput(dataTable, element);\n",
              "          const docLink = document.createElement('div');\n",
              "          docLink.innerHTML = docLinkHtml;\n",
              "          element.appendChild(docLink);\n",
              "        }\n",
              "      </script>\n",
              "    </div>\n",
              "  </div>\n",
              "  "
            ]
          },
          "metadata": {},
          "execution_count": 31
        }
      ]
    },
    {
      "cell_type": "code",
      "source": [
        "# Quantidade de valores nulos por coluna\n",
        "\n",
        "dfDados.isnull().sum()"
      ],
      "metadata": {
        "colab": {
          "base_uri": "https://localhost:8080/"
        },
        "id": "1OTbWUpX_b2n",
        "outputId": "dfbe32a4-7861-4af6-f01f-49da1f7c2ddd"
      },
      "execution_count": null,
      "outputs": [
        {
          "output_type": "execute_result",
          "data": {
            "text/plain": [
              "uf_sigla                  0\n",
              "nome_microrregiao         0\n",
              "nome_municipio            0\n",
              "des_capital_interior      0\n",
              "des_canal                 0\n",
              "cod_marca                 0\n",
              "dt_indicador              0\n",
              "st_entrega                0\n",
              "nr_tat_dias_uteis       529\n",
              "nr_pedidos              529\n",
              "dtype: int64"
            ]
          },
          "metadata": {},
          "execution_count": 32
        }
      ]
    },
    {
      "cell_type": "code",
      "source": [],
      "metadata": {
        "id": "qA1ELoRDBPfV"
      },
      "execution_count": null,
      "outputs": []
    },
    {
      "cell_type": "code",
      "source": [],
      "metadata": {
        "id": "k-OOdzy6BmuJ"
      },
      "execution_count": null,
      "outputs": []
    },
    {
      "cell_type": "markdown",
      "source": [
        "**Exportar dados em CSV**"
      ],
      "metadata": {
        "id": "xfmu5CXFBbcK"
      }
    },
    {
      "cell_type": "code",
      "source": [
        "dfDados['nr_tat_dias_uteis'] = dfDados['nr_tat_dias_uteis'].astype('Int64')\n",
        "dfDados['nr_pedidos'] = dfDados['nr_pedidos'].astype('Int64')\n",
        "\n",
        "dfDados.to_csv('dados.csv', index=False, header=True, sep=';')"
      ],
      "metadata": {
        "id": "oAKHADUJfdgj"
      },
      "execution_count": null,
      "outputs": []
    },
    {
      "cell_type": "code",
      "source": [],
      "metadata": {
        "id": "I4PXFRbdBfvP"
      },
      "execution_count": null,
      "outputs": []
    },
    {
      "cell_type": "markdown",
      "source": [
        "**Exportar dados em XLSX**"
      ],
      "metadata": {
        "id": "BuEKdXk8BdXF"
      }
    },
    {
      "cell_type": "code",
      "source": [
        "dfDados.columns = ['UF', 'Microrregião', 'Município', 'Região', 'Canal de Distribuição', 'Marca', 'Data Entrada', 'Situação da Entrega', 'TAT em dias úteis', 'Quantidade de Pedidos']\n",
        "dfDados.to_excel('dados.xlsx', index=False, header=True)"
      ],
      "metadata": {
        "id": "HCfS7jf-GTab"
      },
      "execution_count": null,
      "outputs": []
    },
    {
      "cell_type": "code",
      "source": [],
      "metadata": {
        "id": "Sa-F86oCUTAy"
      },
      "execution_count": null,
      "outputs": []
    },
    {
      "cell_type": "code",
      "source": [],
      "metadata": {
        "id": "Fn1Ue8-MUTGJ"
      },
      "execution_count": null,
      "outputs": []
    }
  ]
}